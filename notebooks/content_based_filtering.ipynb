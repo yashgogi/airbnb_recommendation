{
 "cells": [
  {
   "cell_type": "code",
   "execution_count": 4,
   "id": "7230f876",
   "metadata": {},
   "outputs": [],
   "source": [
    "import pandas as pd\n",
    "\n",
    "pd.set_option('display.max_rows', 100)\n",
    "pd.set_option('display.max_columns', 100)"
   ]
  },
  {
   "cell_type": "code",
   "execution_count": 5,
   "id": "f8f15b86",
   "metadata": {},
   "outputs": [],
   "source": [
    "df = pd.read_csv('../data/archive/listings.csv')"
   ]
  },
  {
   "cell_type": "code",
   "execution_count": 6,
   "id": "a60110ea",
   "metadata": {},
   "outputs": [
    {
     "name": "stdout",
     "output_type": "stream",
     "text": [
      "name\n",
      "host_name\n",
      "jurisdiction_names\n"
     ]
    }
   ],
   "source": [
    "for x in df.columns:\n",
    "    if 'name' in x:\n",
    "        print(x)"
   ]
  },
  {
   "cell_type": "code",
   "execution_count": 16,
   "id": "332587f1",
   "metadata": {},
   "outputs": [],
   "source": [
    "from glob import glob\n",
    "\n",
    "# read existing user recommendation file\n",
    "path = glob('../results/recommend/*.csv')\n",
    "df = pd.concat([pd.read_csv(p) for p in path])\n",
    "# listing detail file\n",
    "listing = pd.read_csv('../data/archive/listings.csv')\n",
    "# merge two dataframe\n",
    "df1 = pd.merge(df, listing[['id','name','picture_url']], left_on=['listing_id'], right_on=['id'], how='left') "
   ]
  },
  {
   "cell_type": "code",
   "execution_count": 24,
   "id": "b212fa8f",
   "metadata": {},
   "outputs": [
    {
     "data": {
      "text/plain": [
       "array([    5599,     5811,    11179, ..., 92674552, 92877328, 93113472])"
      ]
     },
     "execution_count": 24,
     "metadata": {},
     "output_type": "execute_result"
    }
   ],
   "source": [
    "df1['reviewer_id'].unique()"
   ]
  },
  {
   "cell_type": "code",
   "execution_count": 22,
   "id": "9d836927",
   "metadata": {},
   "outputs": [
    {
     "data": {
      "text/plain": [
       "(5, 95)"
      ]
     },
     "execution_count": 22,
     "metadata": {},
     "output_type": "execute_result"
    }
   ],
   "source": [
    "listing[listing['id'].isin(pop)]"
   ]
  },
  {
   "cell_type": "code",
   "execution_count": 15,
   "id": "8a04e16e",
   "metadata": {},
   "outputs": [
    {
     "data": {
      "text/html": [
       "<div>\n",
       "<style scoped>\n",
       "    .dataframe tbody tr th:only-of-type {\n",
       "        vertical-align: middle;\n",
       "    }\n",
       "\n",
       "    .dataframe tbody tr th {\n",
       "        vertical-align: top;\n",
       "    }\n",
       "\n",
       "    .dataframe thead th {\n",
       "        text-align: right;\n",
       "    }\n",
       "</style>\n",
       "<table border=\"1\" class=\"dataframe\">\n",
       "  <thead>\n",
       "    <tr style=\"text-align: right;\">\n",
       "      <th></th>\n",
       "      <th>listing_id</th>\n",
       "    </tr>\n",
       "    <tr>\n",
       "      <th>picture_url</th>\n",
       "      <th></th>\n",
       "    </tr>\n",
       "  </thead>\n",
       "  <tbody>\n",
       "    <tr>\n",
       "      <th>https://a2.muscache.com/im/pictures/58387858/56cc87cf_original.jpg?aki_policy=large</th>\n",
       "      <td>31796</td>\n",
       "    </tr>\n",
       "    <tr>\n",
       "      <th>https://a0.muscache.com/im/pictures/248513/fb3060ef_original.jpg?aki_policy=large</th>\n",
       "      <td>20000</td>\n",
       "    </tr>\n",
       "    <tr>\n",
       "      <th>https://a0.muscache.com/im/pictures/38143869/dc78d4d7_original.jpg?aki_policy=large</th>\n",
       "      <td>1038465</td>\n",
       "    </tr>\n",
       "    <tr>\n",
       "      <th>https://a2.muscache.com/im/pictures/54186725/13844ed1_original.jpg?aki_policy=large</th>\n",
       "      <td>4314054</td>\n",
       "    </tr>\n",
       "    <tr>\n",
       "      <th>https://a2.muscache.com/im/pictures/60204794/348ce9b7_original.jpg?aki_policy=large</th>\n",
       "      <td>916123</td>\n",
       "    </tr>\n",
       "  </tbody>\n",
       "</table>\n",
       "</div>"
      ],
      "text/plain": [
       "                                                    listing_id\n",
       "picture_url                                                   \n",
       "https://a2.muscache.com/im/pictures/58387858/56...       31796\n",
       "https://a0.muscache.com/im/pictures/248513/fb30...       20000\n",
       "https://a0.muscache.com/im/pictures/38143869/dc...     1038465\n",
       "https://a2.muscache.com/im/pictures/54186725/13...     4314054\n",
       "https://a2.muscache.com/im/pictures/60204794/34...      916123"
      ]
     },
     "execution_count": 15,
     "metadata": {},
     "output_type": "execute_result"
    }
   ],
   "source": [
    "pop=[4314054,31796,\n",
    "     916123,20000,\n",
    "     1038465]\n",
    "\n",
    "df1[df1['listing_id'].isin(pop)][['picture_url','listing_id']].drop_duplicates().set_index('picture_url')\n"
   ]
  },
  {
   "cell_type": "code",
   "execution_count": 64,
   "id": "fc80583b",
   "metadata": {},
   "outputs": [],
   "source": [
    "url = df1[df1['reviewer_id']==63281408]['picture_url'].values"
   ]
  },
  {
   "cell_type": "code",
   "execution_count": 56,
   "id": "b868d76c",
   "metadata": {},
   "outputs": [
    {
     "data": {
      "text/html": [
       "<div>\n",
       "<style scoped>\n",
       "    .dataframe tbody tr th:only-of-type {\n",
       "        vertical-align: middle;\n",
       "    }\n",
       "\n",
       "    .dataframe tbody tr th {\n",
       "        vertical-align: top;\n",
       "    }\n",
       "\n",
       "    .dataframe thead th {\n",
       "        text-align: right;\n",
       "    }\n",
       "</style>\n",
       "<table border=\"1\" class=\"dataframe\">\n",
       "  <thead>\n",
       "    <tr style=\"text-align: right;\">\n",
       "      <th></th>\n",
       "      <th>reviewer_id</th>\n",
       "      <th>listing_id</th>\n",
       "      <th>rating</th>\n",
       "      <th>id</th>\n",
       "      <th>name</th>\n",
       "    </tr>\n",
       "  </thead>\n",
       "  <tbody>\n",
       "  </tbody>\n",
       "</table>\n",
       "</div>"
      ],
      "text/plain": [
       "Empty DataFrame\n",
       "Columns: [reviewer_id, listing_id, rating, id, name]\n",
       "Index: []"
      ]
     },
     "execution_count": 56,
     "metadata": {},
     "output_type": "execute_result"
    }
   ],
   "source": [
    "df1[df1['listing_id']==63281408]"
   ]
  },
  {
   "cell_type": "code",
   "execution_count": 43,
   "id": "cb8b90c2",
   "metadata": {},
   "outputs": [],
   "source": [
    "url = 'https://a2.muscache.com/im/pictures/c0842db1-ee98-4fe8-870b-d1e2af33855d.jpg?aki_policy=large'"
   ]
  },
  {
   "cell_type": "code",
   "execution_count": 67,
   "id": "08c6a35e",
   "metadata": {},
   "outputs": [
    {
     "name": "stdout",
     "output_type": "stream",
     "text": [
      "<PIL.Image.Image image mode=RGB size=224x224 at 0x7F7A0A9005E0>\n",
      "<PIL.Image.Image image mode=RGB size=224x224 at 0x7F7A59DEA940>\n",
      "<PIL.Image.Image image mode=RGB size=224x224 at 0x7F79E8F32F40>\n"
     ]
    },
    {
     "ename": "UnidentifiedImageError",
     "evalue": "cannot identify image file <_io.BytesIO object at 0x7f7a0aa7e400>",
     "output_type": "error",
     "traceback": [
      "\u001b[0;31m---------------------------------------------------------------------------\u001b[0m",
      "\u001b[0;31mUnidentifiedImageError\u001b[0m                    Traceback (most recent call last)",
      "Input \u001b[0;32mIn [67]\u001b[0m, in \u001b[0;36m<cell line: 6>\u001b[0;34m()\u001b[0m\n\u001b[1;32m      6\u001b[0m \u001b[38;5;28;01mfor\u001b[39;00m u \u001b[38;5;129;01min\u001b[39;00m url:\n\u001b[1;32m      7\u001b[0m     response \u001b[38;5;241m=\u001b[39m requests\u001b[38;5;241m.\u001b[39mget(u)\n\u001b[0;32m----> 8\u001b[0m     img \u001b[38;5;241m=\u001b[39m \u001b[43mImage\u001b[49m\u001b[38;5;241;43m.\u001b[39;49m\u001b[43mopen\u001b[49m\u001b[43m(\u001b[49m\u001b[43mBytesIO\u001b[49m\u001b[43m(\u001b[49m\u001b[43mresponse\u001b[49m\u001b[38;5;241;43m.\u001b[39;49m\u001b[43mcontent\u001b[49m\u001b[43m)\u001b[49m\u001b[43m)\u001b[49m\n\u001b[1;32m      9\u001b[0m     img_resized \u001b[38;5;241m=\u001b[39m img\u001b[38;5;241m.\u001b[39mresize((\u001b[38;5;241m224\u001b[39m,\u001b[38;5;241m224\u001b[39m))\n\u001b[1;32m     10\u001b[0m     \u001b[38;5;28mprint\u001b[39m(img_resized)\n",
      "File \u001b[0;32m~/opt/anaconda3/lib/python3.9/site-packages/PIL/Image.py:3008\u001b[0m, in \u001b[0;36mopen\u001b[0;34m(fp, mode, formats)\u001b[0m\n\u001b[1;32m   3006\u001b[0m \u001b[38;5;28;01mfor\u001b[39;00m message \u001b[38;5;129;01min\u001b[39;00m accept_warnings:\n\u001b[1;32m   3007\u001b[0m     warnings\u001b[38;5;241m.\u001b[39mwarn(message)\n\u001b[0;32m-> 3008\u001b[0m \u001b[38;5;28;01mraise\u001b[39;00m UnidentifiedImageError(\n\u001b[1;32m   3009\u001b[0m     \u001b[38;5;124m\"\u001b[39m\u001b[38;5;124mcannot identify image file \u001b[39m\u001b[38;5;132;01m%r\u001b[39;00m\u001b[38;5;124m\"\u001b[39m \u001b[38;5;241m%\u001b[39m (filename \u001b[38;5;28;01mif\u001b[39;00m filename \u001b[38;5;28;01melse\u001b[39;00m fp)\n\u001b[1;32m   3010\u001b[0m )\n",
      "\u001b[0;31mUnidentifiedImageError\u001b[0m: cannot identify image file <_io.BytesIO object at 0x7f7a0aa7e400>"
     ]
    }
   ],
   "source": [
    "from PIL import Image\n",
    "import requests\n",
    "from io import BytesIO\n",
    "\n",
    "\n",
    "for u in url:\n",
    "    response = requests.get(u)\n",
    "    img = Image.open(BytesIO(response.content))\n",
    "    img_resized = img.resize((224,224))\n",
    "    print(img_resized)"
   ]
  },
  {
   "cell_type": "code",
   "execution_count": 68,
   "id": "6d24e215",
   "metadata": {},
   "outputs": [
    {
     "data": {
      "text/plain": [
       "'https://a2.muscache.com/im/pictures/eb77d242-0782-4b20-8870-68871751cb6e.jpg?aki_policy=large'"
      ]
     },
     "execution_count": 68,
     "metadata": {},
     "output_type": "execute_result"
    }
   ],
   "source": [
    "u"
   ]
  },
  {
   "cell_type": "code",
   "execution_count": null,
   "id": "042ab6f3",
   "metadata": {},
   "outputs": [],
   "source": [
    "df['']"
   ]
  }
 ],
 "metadata": {
  "kernelspec": {
   "display_name": "Python 3 (ipykernel)",
   "language": "python",
   "name": "python3"
  },
  "language_info": {
   "codemirror_mode": {
    "name": "ipython",
    "version": 3
   },
   "file_extension": ".py",
   "mimetype": "text/x-python",
   "name": "python",
   "nbconvert_exporter": "python",
   "pygments_lexer": "ipython3",
   "version": "3.9.12"
  }
 },
 "nbformat": 4,
 "nbformat_minor": 5
}
