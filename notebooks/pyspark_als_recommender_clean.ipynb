{
 "cells": [
  {
   "cell_type": "markdown",
   "id": "4c3bf86d",
   "metadata": {},
   "source": [
    "In this notebook target label is created using vader sentiment analyser"
   ]
  },
  {
   "cell_type": "markdown",
   "id": "19ccd12a",
   "metadata": {},
   "source": [
    "### Importing Libraries"
   ]
  },
  {
   "cell_type": "code",
   "execution_count": 21,
   "id": "bf4e1c5a",
   "metadata": {},
   "outputs": [],
   "source": [
    "import pyspark\n",
    "from pyspark.ml.evaluation import RegressionEvaluator\n",
    "from pyspark.sql import SparkSession\n",
    "from pyspark.ml.tuning import CrossValidator, ParamGridBuilder\n",
    "from pyspark.ml.recommendation import ALS\n",
    "from pyspark.sql.functions import isnan, when, count, col\n",
    "from pyspark.sql.types import FloatType\n",
    "from pyspark.sql import Row\n",
    "import matplotlib.pyplot as plt\n",
    "import warnings\n",
    "warnings.filterwarnings('ignore')"
   ]
  },
  {
   "cell_type": "markdown",
   "id": "5e119d38",
   "metadata": {},
   "source": [
    "### Pyspark Mongo Db connection"
   ]
  },
  {
   "cell_type": "code",
   "execution_count": 23,
   "id": "110e5ea8",
   "metadata": {},
   "outputs": [
    {
     "name": "stdout",
     "output_type": "stream",
     "text": [
      "23/04/10 21:01:07 WARN SparkSession: Using an existing Spark session; only runtime SQL configurations will take effect.\n"
     ]
    }
   ],
   "source": [
    "spark = SparkSession \\\n",
    ".builder \\\n",
    ".appName(\"mongodbtest1\") \\\n",
    ".master('local')\\\n",
    ".config(\"spark.mongodb.input.uri\", \"mongodb://localhost:27017/bdata.scored_reviews_updated\") \\\n",
    ".config(\"spark.mongodb.output.uri\", \"mongodb://localhost:27017/bdata.scored_reviews_updated\") \\\n",
    ".config('spark.jars.packages', 'org.mongodb.spark:mongo-spark-connector_2.12:3.0.1') \\\n",
    ".getOrCreate()"
   ]
  },
  {
   "cell_type": "code",
   "execution_count": 24,
   "id": "e257768b",
   "metadata": {},
   "outputs": [
    {
     "name": "stdout",
     "output_type": "stream",
     "text": [
      "23/04/10 21:01:10 WARN MongoInferSchema: Field 'listing_id' contains conflicting types converting to StringType\n",
      "23/04/10 21:01:10 WARN MongoInferSchema: Field 'reviewer_id' contains conflicting types converting to StringType\n"
     ]
    }
   ],
   "source": [
    "reviews = spark.read\\\n",
    ".format('com.mongodb.spark.sql.DefaultSource')\\\n",
    ".option( \"uri\", \"mongodb://localhost:27017/bdata.scored_reviews_updated\") \\\n",
    ".load()"
   ]
  },
  {
   "cell_type": "code",
   "execution_count": 25,
   "id": "8b31716e",
   "metadata": {},
   "outputs": [
    {
     "name": "stdout",
     "output_type": "stream",
     "text": [
      "+--------------------+--------+----------+-----------+-----+\n",
      "|                 _id|compound|listing_id|reviewer_id|score|\n",
      "+--------------------+--------+----------+-----------+-----+\n",
      "|{64340868e800520d...|     0.0|   1178162|   20763927|    2|\n",
      "|{64340868e800520d...|  0.8519|   1178162|   12717709|    4|\n",
      "|{64340868e800520d...|  0.7841|   1178162|   33049657|    4|\n",
      "|{64340868e800520d...|  0.6808|   1178162|   28249766|    4|\n",
      "|{64340868e800520d...|  0.8732|   1178162|   40649244|    4|\n",
      "+--------------------+--------+----------+-----------+-----+\n",
      "only showing top 5 rows\n",
      "\n"
     ]
    },
    {
     "data": {
      "text/plain": [
       "(None, 7391)"
      ]
     },
     "execution_count": 25,
     "metadata": {},
     "output_type": "execute_result"
    }
   ],
   "source": [
    "reviews.show(5), reviews.count()"
   ]
  },
  {
   "cell_type": "code",
   "execution_count": 26,
   "id": "230ed798",
   "metadata": {},
   "outputs": [],
   "source": [
    "# select column in loaded \n",
    "reviews1 = reviews.select(['listing_id', 'reviewer_id', 'score'])\n",
    "# cast column datatype as float\n",
    "reviews1 = reviews1.withColumn('listing_id', col('listing_id').cast(FloatType()))\n",
    "reviews1 = reviews1.withColumn('reviewer_id', col('reviewer_id').cast(FloatType()))\n",
    "reviews1 = reviews1.withColumn('score', col('score').cast(FloatType()))\n",
    "\n",
    "\n",
    "# filter null values listing id\n",
    "reviews1 = reviews1.where(reviews1.listing_id.isNotNull())"
   ]
  },
  {
   "cell_type": "code",
   "execution_count": 27,
   "id": "fa67f32e",
   "metadata": {},
   "outputs": [
    {
     "name": "stdout",
     "output_type": "stream",
     "text": [
      "+----------+-----------+-----+\n",
      "|listing_id|reviewer_id|score|\n",
      "+----------+-----------+-----+\n",
      "|         0|          0|    0|\n",
      "+----------+-----------+-----+\n",
      "\n"
     ]
    }
   ],
   "source": [
    "# get null value counts\n",
    "reviews1.select([count(when(isnan(c), c)).alias(c) for c in reviews1.columns]).show()"
   ]
  },
  {
   "cell_type": "code",
   "execution_count": 40,
   "id": "10a6ea0f",
   "metadata": {},
   "outputs": [],
   "source": [
    "# # Count the number of ratings for each user\n",
    "# user_counts = reviews1.groupBy(\"reviewer_id\").agg(count(\"*\").alias(\"count\"))\n",
    "\n",
    "# # Filter the users with more than 1 rating\n",
    "# filtered_users = user_counts.filter(\"count > 1\")\n",
    "\n",
    "# # Get the user IDs as a list\n",
    "# user_ids = filtered_users.select(\"reviewer_id\").rdd.flatMap(lambda x: x).collect()\n",
    "\n",
    "# reviews2 = reviews1.filter(col(\"reviewer_id\").isin(user_ids))"
   ]
  },
  {
   "cell_type": "code",
   "execution_count": 41,
   "id": "e245131c",
   "metadata": {},
   "outputs": [
    {
     "data": {
      "image/png": "[encoded data removed]",
      "text/plain": [
       "<Figure size 432x288 with 1 Axes>"
      ]
     },
     "metadata": {},
     "output_type": "display_data"
    }
   ],
   "source": [
    "# visualise the distribution of rating score\n",
    "\n",
    "reviews = reviews1.select('score').collect()\n",
    "review_list = [reviews[i][0] for i in range(len(reviews))]\n",
    "\n",
    "plt.hist(review_list, bins=[0.5,1.5,2.5,3.5,4.5,5.5], alpha=0.5,\n",
    "         histtype='stepfilled', color='steelblue',\n",
    "         edgecolor='none')\n",
    "plt.ylabel('Frequency')\n",
    "plt.xlabel('Rating')\n",
    "plt.style.use('seaborn-white')"
   ]
  },
  {
   "cell_type": "code",
   "execution_count": 42,
   "id": "3319fe0e",
   "metadata": {},
   "outputs": [],
   "source": [
    "# split data\n",
    "train_data, test_data = reviews1.randomSplit([0.8, 0.2], seed=0)\n"
   ]
  },
  {
   "cell_type": "code",
   "execution_count": 43,
   "id": "4712662a",
   "metadata": {
    "scrolled": true
   },
   "outputs": [
    {
     "data": {
      "text/plain": [
       "(5655, 1446)"
      ]
     },
     "execution_count": 43,
     "metadata": {},
     "output_type": "execute_result"
    }
   ],
   "source": [
    "# get no of records in training data\n",
    "train_data.count(), test_data.count()"
   ]
  },
  {
   "cell_type": "code",
   "execution_count": 44,
   "id": "b56b276c",
   "metadata": {},
   "outputs": [],
   "source": [
    "als = ALS(\n",
    "    rank=20,\n",
    "    maxIter=10, # updated parameters based on the hyperparameter values\n",
    "    regParam=0.2,\n",
    "    userCol=\"reviewer_id\",\n",
    "    itemCol=\"listing_id\",\n",
    "    ratingCol=\"score\",\n",
    "    coldStartStrategy=\"drop\",implicitPrefs=False,\n",
    "    nonnegative=True\n",
    ")\n",
    "\n",
    "\n",
    "evaluator = RegressionEvaluator(metricName=\"mae\",\n",
    "                            labelCol=\"score\",\n",
    "                            predictionCol=\"prediction\")\n"
   ]
  },
  {
   "cell_type": "code",
   "execution_count": 45,
   "id": "cec4942b",
   "metadata": {},
   "outputs": [],
   "source": [
    "# hyperparameter tuning of model\n",
    "param_grid = ParamGridBuilder()\\\n",
    "    .addGrid(als.rank,[5,10,20,30])\\\n",
    "    .addGrid(als.regParam,[ 0.01, 0.1, 0.05,0.2])\\\n",
    "    .addGrid(als.maxIter,[10,20,30,40])\\\n",
    "    .build()\n",
    "\n",
    "\n",
    "# cross validation on training data\n",
    "cv = CrossValidator(estimator=als, estimatorParamMaps=param_grid, evaluator=evaluator, numFolds=3)\n",
    "# create model based on cv \n",
    "model = cv.fit(train_data)\n",
    "\n",
    "best_rank = model.bestModel.rank\n",
    "best_regparam = model.bestModel._java_obj.parent().getRegParam()\n",
    "best_maxiter = model.bestModel._java_obj.parent().getMaxIter()\n",
    "print(f'Rank : {best_rank}, Regparam: {best_regparam}, Maxiter: {best_maxiter}')\n",
    "\n",
    "# Generate predictions on the test data\n",
    "predictions = model.bestModel.transform(test_data)\n",
    "\n",
    "mae = evaluator.evaluate(predictions)\n",
    "print('Mae on Test set',mae)\n"
   ]
  },
  {
   "cell_type": "code",
   "execution_count": 45,
   "id": "509976b6",
   "metadata": {},
   "outputs": [
    {
     "name": "stdout",
     "output_type": "stream",
     "text": [
      "mae on train set 0.17688557019178894\n",
      "mae on Test set 2.0647601259406656\n"
     ]
    }
   ],
   "source": [
    "# train model\n",
    "model = als.fit(train_data)\n",
    "# Generate predictions on the test data\n",
    "train_predictions = model.transform(train_data)\n",
    "train_mae = evaluator.evaluate(train_predictions)\n",
    "print('mae on train set',train_mae)\n",
    "\n",
    "predictions = model.transform(test_data)\n",
    "mae = evaluator.evaluate(predictions)\n",
    "print('mae on Test set',mae)\n"
   ]
  },
  {
   "cell_type": "code",
   "execution_count": 46,
   "id": "a0d09d2a",
   "metadata": {
    "scrolled": true
   },
   "outputs": [],
   "source": [
    "# getting recommendations for all the users\n",
    "\n",
    "from pyspark.sql.functions import col, explode, when\n",
    "\n",
    "user_recs = model.recommendForAllUsers(10)\n",
    "\n",
    "# Explode the recommendations column to get individual (item ID, rating) tuples\n",
    "exploded_recs = user_recs.select(\"reviewer_id\", \\\n",
    "                                 explode(\"recommendations\")).select(\"reviewer_id\", \n",
    "                                                                    col(\"col.listing_id\"), \n",
    "                                                                    col(\"col.rating\"))\n",
    "# Clip the ratings to the 1 to 5 range\n",
    "clipped_recs = exploded_recs.withColumn(\"rating\", when(col(\"rating\") < 1, 1).when(col(\"rating\") > 5, 5).otherwise(col(\"rating\")))"
   ]
  },
  {
   "cell_type": "code",
   "execution_count": 47,
   "id": "7959b83d",
   "metadata": {},
   "outputs": [
    {
     "name": "stderr",
     "output_type": "stream",
     "text": [
      "[Stage 959:====================================================> (98 + 1) / 100]\r"
     ]
    },
    {
     "name": "stdout",
     "output_type": "stream",
     "text": [
      "+-----------+----------+---------+\n",
      "|reviewer_id|listing_id|   rating|\n",
      "+-----------+----------+---------+\n",
      "|       5599|    210097| 3.786518|\n",
      "|       5599|  13306811| 3.759314|\n",
      "|       5599|   2395326|3.7557144|\n",
      "|       5599|   1066767|3.6441634|\n",
      "|       5599|   8536127|3.6085236|\n",
      "|       5599|   5166870|3.5414672|\n",
      "|       5599|   8563141|3.5268424|\n",
      "|       5599|  10883063|3.3836446|\n",
      "|       5599|   9841140| 3.271917|\n",
      "|       5599|  12618291|3.2247663|\n",
      "|       5811|   1885825|3.8186982|\n",
      "|       5811|    197972|3.7432733|\n",
      "|       5811|   1401625| 3.722004|\n",
      "|       5811|   5295491|3.5335271|\n",
      "|       5811|   3870046|3.3945508|\n",
      "|       5811|   8450098|3.3565278|\n",
      "|       5811|   4870883|3.3086288|\n",
      "|       5811|   5074924|3.1683695|\n",
      "|       5811|      5506|3.1438344|\n",
      "|       5811|   9231486| 3.126635|\n",
      "+-----------+----------+---------+\n",
      "only showing top 20 rows\n",
      "\n"
     ]
    },
    {
     "name": "stderr",
     "output_type": "stream",
     "text": [
      "\r",
      "                                                                                \r"
     ]
    }
   ],
   "source": [
    "clipped_recs.show()#collect()[0]['recommendations']"
   ]
  },
  {
   "cell_type": "code",
   "execution_count": 48,
   "id": "2ac556fa",
   "metadata": {},
   "outputs": [
    {
     "name": "stderr",
     "output_type": "stream",
     "text": [
      "                                                                                \r"
     ]
    }
   ],
   "source": [
    "# Save data to a CSV file\n",
    "clipped_recs.coalesce(1).write.format(\"csv\").mode('overwrite').option(\"header\", \"true\").save(\"../results/recommend\")"
   ]
  },
  {
   "cell_type": "code",
   "execution_count": null,
   "id": "aad93c50",
   "metadata": {},
   "outputs": [],
   "source": []
  }
 ],
 "metadata": {
  "kernelspec": {
   "display_name": "Python 3 (ipykernel)",
   "language": "python",
   "name": "python3"
  },
  "language_info": {
   "codemirror_mode": {
    "name": "ipython",
    "version": 3
   },
   "file_extension": ".py",
   "mimetype": "text/x-python",
   "name": "python",
   "nbconvert_exporter": "python",
   "pygments_lexer": "ipython3",
   "version": "3.9.12"
  }
 },
 "nbformat": 4,
 "nbformat_minor": 5
}
